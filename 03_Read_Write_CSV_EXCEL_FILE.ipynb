{
 "cells": [
  {
   "cell_type": "code",
   "execution_count": null,
   "metadata": {},
   "outputs": [],
   "source": [
    "import pandas as pd\n",
    "# To Read from csv file\n",
    "df = pd.read_csv(\"stock_data.csv\")\n",
    "df"
   ]
  },
  {
   "cell_type": "code",
   "execution_count": null,
   "metadata": {},
   "outputs": [],
   "source": [
    "# To start From any Particular Header    or  skip certain rows\n",
    "df=pd.read_csv(\"stock_data.csv\",header=1)\n",
    "df"
   ]
  },
  {
   "cell_type": "code",
   "execution_count": null,
   "metadata": {},
   "outputs": [],
   "source": [
    "#To Add Missing Headers\n",
    "df = pd.read_csv(\"stock_data.csv\",header=None,names=[\"tickers\",\"eps\",\"revenue\",\"price\",\"people\"])\n",
    "df"
   ]
  },
  {
   "cell_type": "code",
   "execution_count": null,
   "metadata": {},
   "outputs": [],
   "source": [
    "#To Read Only Few Rows   Excluding Header\n",
    "df = pd.read_csv(\"stock_data.csv\",nrows=3)\n",
    "df"
   ]
  },
  {
   "cell_type": "code",
   "execution_count": null,
   "metadata": {},
   "outputs": [],
   "source": [
    "#To Read Only Few Rows   Excluding Header\n",
    "df = pd.read_csv(\"stock_data.csv\",na_values={\n",
    "    \"eps\":[\"not available\"],\n",
    "    \"revenue\":[\"-1\"],\n",
    "    \"price\":[\"n.a.\"],\n",
    "    \"revenue\":[\"n.a.\"],\n",
    "    \"people\":[\"n.a.\"],\n",
    "})\n",
    "df"
   ]
  },
  {
   "cell_type": "code",
   "execution_count": null,
   "metadata": {},
   "outputs": [],
   "source": [
    "#export Modified Data as a new csv File\n",
    "df.to_csv(\"new_stock_data.csv\",index=False)"
   ]
  },
  {
   "cell_type": "code",
   "execution_count": null,
   "metadata": {},
   "outputs": [],
   "source": [
    "#Export Particular Columns\n",
    "df.to_csv(\"new_stock_data.csv\",columns=[\"tickers\",\"people\",\"price\"],index=False)"
   ]
  },
  {
   "cell_type": "code",
   "execution_count": null,
   "metadata": {},
   "outputs": [],
   "source": [
    "#Read Excel Files\n",
    "df=pd.read_excel(\"stock_data.xlsx\",\"Sheet1\")\n",
    "df"
   ]
  },
  {
   "cell_type": "code",
   "execution_count": null,
   "metadata": {},
   "outputs": [],
   "source": [
    "#Using Convertors on Excel Sheet\n",
    "def convert_people(cell):\n",
    "    if cell==\"n.a.\":\n",
    "        return \"Sam Walton\"\n",
    "    return cell\n",
    "\n",
    "def convert_eps(cell):\n",
    "    if cell==\"not available\":\n",
    "        return None\n",
    "    return cell\n",
    "\n",
    "def convert_tickers(cell):\n",
    "    if cell==\"GOOGL\":\n",
    "        return \"GOOGLE\"\n",
    "    return cell\n",
    "\n",
    "df = pd.read_excel(\"stock_data.xlsx\", \"Sheet1\",converters=\n",
    "    {\n",
    "        \"people\":convert_people,\n",
    "        \"eps\":convert_eps,\n",
    "        \"tickers\":convert_tickers,\n",
    "    },\n",
    ")\n",
    "df\n"
   ]
  },
  {
   "cell_type": "code",
   "execution_count": null,
   "metadata": {},
   "outputs": [],
   "source": [
    "#Export Modified Data to Excel File\n",
    "#startrow startcol    shifts Row and Column\n",
    "df.to_excel(\"new.xlsx\",sheet_name=\"Stock1\",index=False,startrow=1,startcol=2)"
   ]
  },
  {
   "cell_type": "code",
   "execution_count": null,
   "metadata": {},
   "outputs": [],
   "source": [
    "#Export two Excel Sheets in a Single File\n",
    "first=pd.read_excel(\"stock_data.xlsx\",\"Sheet1\");\n",
    "second=pd.read_excel(\"weather_data.xlsx\",\"Sheet1\");\n",
    "#print(first)\n",
    "#print(second)\n",
    "with pd.ExcelWriter (\"Merge two files.xlsx\")as writer:\n",
    "     first.to_excel(writer,\"Stock Sheet\",index=False)\n",
    "     second.to_excel(writer,\"Weather Sheet\",index=False)"
   ]
  }
 ],
 "metadata": {
  "interpreter": {
   "hash": "916dbcbb3f70747c44a77c7bcd40155683ae19c65e1c03b4aa3499c5328201f1"
  },
  "kernelspec": {
   "display_name": "Python 3.8.10 64-bit",
   "language": "python",
   "name": "python3"
  },
  "language_info": {
   "codemirror_mode": {
    "name": "ipython",
    "version": 3
   },
   "file_extension": ".py",
   "mimetype": "text/x-python",
   "name": "python",
   "nbconvert_exporter": "python",
   "pygments_lexer": "ipython3",
   "version": "3.8.10"
  },
  "orig_nbformat": 4
 },
 "nbformat": 4,
 "nbformat_minor": 2
}
